{
  "nbformat": 4,
  "nbformat_minor": 0,
  "metadata": {
    "colab": {
      "provenance": []
    },
    "kernelspec": {
      "name": "python3",
      "display_name": "Python 3"
    },
    "language_info": {
      "name": "python"
    }
  },
  "cells": [
    {
      "cell_type": "code",
      "source": [
        "import numpy as np"
      ],
      "metadata": {
        "id": "p2rvJuNFgONP"
      },
      "execution_count": 14,
      "outputs": []
    },
    {
      "cell_type": "code",
      "execution_count": 18,
      "metadata": {
        "id": "FhVkoinafuyI"
      },
      "outputs": [],
      "source": [
        "import numpy as np\n",
        "\n",
        "def Hadamard_Matrix(n):\n",
        "    # Base case: Hadamard matrix of order 1\n",
        "    if n == 0:\n",
        "        return np.array([[1]])\n",
        "\n",
        "    # Recursive case: Hadamard matrix of order n is constructed from two matrices of order n-1\n",
        "    H_minus_1 = Hadamard_Matrix(n - 1)\n",
        "\n",
        "    # Constructing the Hadamard matrix of order n\n",
        "    top_left = np.concatenate((H_minus_1, H_minus_1), axis=1)\n",
        "    bottom_left = np.concatenate((H_minus_1, -H_minus_1), axis=1)\n",
        "\n",
        "    # Normalization (optional, depending on the specific application)\n",
        "    H_2N = np.concatenate((top_left, bottom_left), axis=0)\n",
        "\n",
        "    return H_2N\n",
        "\n",
        "# Example usage:\n",
        "# Uncomment and replace n with the desired order of the Hadamard matrix\n",
        "# n = 3\n",
        "# H = Hadamard_Matrix(n)\n",
        "# print(H)\n"
      ]
    },
    {
      "cell_type": "code",
      "source": [
        "def Walsh_Hadamard(x: np.array):\n",
        "    # Check if the length of the input is a power of 2\n",
        "    if len(x) & (len(x) - 1) != 0:\n",
        "        raise SystemError(\"The given input length is not a power of 2\")\n",
        "\n",
        "    # Generate the Hadamard matrix based on the length of the input 2**n\n",
        "    H = Hadamard_Matrix(int(np.log2(len(x))))\n",
        "\n",
        "    # Perform the Walsh-Hadamard transform by matrix multiplication\n",
        "    transformed_x = np.dot(H, x)\n",
        "\n",
        "    return transformed_x"
      ],
      "metadata": {
        "id": "x8hKz483krQO"
      },
      "execution_count": 19,
      "outputs": []
    },
    {
      "cell_type": "code",
      "source": [
        "# Example usage:\n",
        "x = np.array([1, 0, 1, 0])\n",
        "result = Walsh_Hadamard(x)\n",
        "print(\"Input:\", x)\n",
        "print(\"Transformed:\", result)"
      ],
      "metadata": {
        "colab": {
          "base_uri": "https://localhost:8080/"
        },
        "id": "wYf_iuKTlmRt",
        "outputId": "309b3e59-1783-470a-9be1-bcdda5e6aa7d"
      },
      "execution_count": 24,
      "outputs": [
        {
          "output_type": "stream",
          "name": "stdout",
          "text": [
            "Input: [1 0 1 0]\n",
            "Transformed: [2 2 0 0]\n"
          ]
        }
      ]
    }
  ]
}